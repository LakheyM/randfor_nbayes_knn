{
 "cells": [
  {
   "cell_type": "code",
   "execution_count": 1,
   "metadata": {
    "collapsed": true
   },
   "outputs": [],
   "source": [
    "#steps\n",
    "#read the txt file with header - in features\n",
    "#clean all the headers /use map and lambda to do all at once\n",
    "#pass them as columns in dataframe\n",
    "#use x-train.txt (with headers from clean_featues)"
   ]
  },
  {
   "cell_type": "code",
   "execution_count": 2,
   "metadata": {
    "collapsed": true
   },
   "outputs": [],
   "source": [
    "import numpy as np"
   ]
  },
  {
   "cell_type": "code",
   "execution_count": 3,
   "metadata": {
    "collapsed": false
   },
   "outputs": [
    {
     "data": {
      "text/html": [
       "<div>\n",
       "<table border=\"1\" class=\"dataframe\">\n",
       "  <thead>\n",
       "    <tr style=\"text-align: right;\">\n",
       "      <th></th>\n",
       "      <th>1</th>\n",
       "    </tr>\n",
       "  </thead>\n",
       "  <tbody>\n",
       "    <tr>\n",
       "      <th>0</th>\n",
       "      <td>tBodyAcc-mean()-X</td>\n",
       "    </tr>\n",
       "    <tr>\n",
       "      <th>1</th>\n",
       "      <td>tBodyAcc-mean()-Y</td>\n",
       "    </tr>\n",
       "    <tr>\n",
       "      <th>2</th>\n",
       "      <td>tBodyAcc-mean()-Z</td>\n",
       "    </tr>\n",
       "    <tr>\n",
       "      <th>3</th>\n",
       "      <td>tBodyAcc-std()-X</td>\n",
       "    </tr>\n",
       "    <tr>\n",
       "      <th>4</th>\n",
       "      <td>tBodyAcc-std()-Y</td>\n",
       "    </tr>\n",
       "  </tbody>\n",
       "</table>\n",
       "</div>"
      ],
      "text/plain": [
       "                   1\n",
       "0  tBodyAcc-mean()-X\n",
       "1  tBodyAcc-mean()-Y\n",
       "2  tBodyAcc-mean()-Z\n",
       "3   tBodyAcc-std()-X\n",
       "4   tBodyAcc-std()-Y"
      ]
     },
     "execution_count": 3,
     "metadata": {},
     "output_type": "execute_result"
    }
   ],
   "source": [
    "#read the features into a dataframe\n",
    "#make a list and pass it into columns to dataset\n",
    "import pandas as pd\n",
    "#list of featuers\n",
    "raw_features=pd.read_csv(\"C:\\\\Users\\\\Mnsh\\\\Documents\\\\GitHub\\\\Thinkful_downloads\\\\har\\\\UCI HAR Dataset\\\\features.txt\", header=None, sep=\" \", index_col=False)\n",
    "#raw_features.head()\n",
    "raw_features[[1]].head()"
   ]
  },
  {
   "cell_type": "code",
   "execution_count": 4,
   "metadata": {
    "collapsed": false
   },
   "outputs": [],
   "source": [
    "#Make a list of desired column\n",
    "header=raw_features.iloc[:, 1].tolist()"
   ]
  },
  {
   "cell_type": "code",
   "execution_count": 5,
   "metadata": {
    "collapsed": false
   },
   "outputs": [
    {
     "data": {
      "text/plain": [
       "['tBodyAcc-mean()-X',\n",
       " 'tBodyAcc-mean()-Y',\n",
       " 'tBodyAcc-mean()-Z',\n",
       " 'tBodyAcc-std()-X',\n",
       " 'tBodyAcc-std()-Y']"
      ]
     },
     "execution_count": 5,
     "metadata": {},
     "output_type": "execute_result"
    }
   ],
   "source": [
    "header[:5]"
   ]
  },
  {
   "cell_type": "code",
   "execution_count": 6,
   "metadata": {
    "collapsed": false
   },
   "outputs": [],
   "source": [
    "#clean the list using lambda which does multiple replacement at the same time\n",
    "header_new=map(lambda x: x.replace('()', '').replace('_', '') \\\n",
    "               .replace(',', '_').replace('Body', '') \\\n",
    "               .replace('Mag', '').replace('mean', 'Mean') \\\n",
    "               .replace('std', 'STD'), header)"
   ]
  },
  {
   "cell_type": "code",
   "execution_count": 7,
   "metadata": {
    "collapsed": false
   },
   "outputs": [
    {
     "data": {
      "text/plain": [
       "561"
      ]
     },
     "execution_count": 7,
     "metadata": {},
     "output_type": "execute_result"
    }
   ],
   "source": [
    "#map object doesn't return any particular object, map saved in a list right after running map\n",
    "header_list=list(header_new)\n",
    "len(header_list)"
   ]
  },
  {
   "cell_type": "code",
   "execution_count": 8,
   "metadata": {
    "collapsed": false
   },
   "outputs": [
    {
     "data": {
      "text/plain": [
       "['tAcc-Mean-X', 'tAcc-Mean-Y', 'tAcc-Mean-Z', 'tAcc-STD-X', 'tAcc-STD-Y']"
      ]
     },
     "execution_count": 8,
     "metadata": {},
     "output_type": "execute_result"
    }
   ],
   "source": [
    "header_list[0:5]"
   ]
  },
  {
   "cell_type": "code",
   "execution_count": 9,
   "metadata": {
    "collapsed": false,
    "scrolled": true
   },
   "outputs": [],
   "source": [
    "#x_vars - save X_train data\n",
    "x_vars=pd.read_csv(\"C:\\\\Users\\\\Mnsh\\\\Documents\\\\GitHub\\\\Thinkful_downloads\\\\har\\\\UCI HAR Dataset\\\\train\\\\X_train.txt\", header=None, delim_whitespace=True, index_col=False, )"
   ]
  },
  {
   "cell_type": "code",
   "execution_count": 15,
   "metadata": {
    "collapsed": false,
    "scrolled": true
   },
   "outputs": [],
   "source": [
    "#continuing with original index and adding x to the column head\n",
    "#x_vars_blackbox=x_vars\n",
    "#x_vars_blackbox.head()\n",
    "\n",
    "#col_name=[]\n",
    "#for i in range (561):\n",
    "    #col_name.append('x'+str(i))\n",
    "#col_name[:5]\n",
    "\n",
    "#col_name[-5:]"
   ]
  },
  {
   "cell_type": "code",
   "execution_count": 16,
   "metadata": {
    "collapsed": false
   },
   "outputs": [],
   "source": [
    "#x_vars_blackbox.columns=col_name\n",
    "#x_vars_blackbox.head()"
   ]
  },
  {
   "cell_type": "code",
   "execution_count": 17,
   "metadata": {
    "collapsed": false
   },
   "outputs": [
    {
     "data": {
      "text/plain": [
       "(7352, 561)"
      ]
     },
     "execution_count": 17,
     "metadata": {},
     "output_type": "execute_result"
    }
   ],
   "source": [
    "#x vars from the training set, actual recorded values for acc/gyro and other reading for diff activites/positions\n",
    "#note length of featues list match columns in this list\n",
    "x_vars.shape"
   ]
  },
  {
   "cell_type": "code",
   "execution_count": 18,
   "metadata": {
    "collapsed": false,
    "scrolled": true
   },
   "outputs": [
    {
     "data": {
      "text/html": [
       "<div>\n",
       "<table border=\"1\" class=\"dataframe\">\n",
       "  <thead>\n",
       "    <tr style=\"text-align: right;\">\n",
       "      <th></th>\n",
       "      <th>0</th>\n",
       "      <th>1</th>\n",
       "      <th>2</th>\n",
       "      <th>3</th>\n",
       "      <th>4</th>\n",
       "      <th>5</th>\n",
       "      <th>6</th>\n",
       "      <th>7</th>\n",
       "      <th>8</th>\n",
       "      <th>9</th>\n",
       "      <th>...</th>\n",
       "      <th>551</th>\n",
       "      <th>552</th>\n",
       "      <th>553</th>\n",
       "      <th>554</th>\n",
       "      <th>555</th>\n",
       "      <th>556</th>\n",
       "      <th>557</th>\n",
       "      <th>558</th>\n",
       "      <th>559</th>\n",
       "      <th>560</th>\n",
       "    </tr>\n",
       "  </thead>\n",
       "  <tbody>\n",
       "    <tr>\n",
       "      <th>0</th>\n",
       "      <td>0.288585</td>\n",
       "      <td>-0.020294</td>\n",
       "      <td>-0.132905</td>\n",
       "      <td>-0.995279</td>\n",
       "      <td>-0.983111</td>\n",
       "      <td>-0.913526</td>\n",
       "      <td>-0.995112</td>\n",
       "      <td>-0.983185</td>\n",
       "      <td>-0.923527</td>\n",
       "      <td>-0.934724</td>\n",
       "      <td>...</td>\n",
       "      <td>-0.074323</td>\n",
       "      <td>-0.298676</td>\n",
       "      <td>-0.710304</td>\n",
       "      <td>-0.112754</td>\n",
       "      <td>0.030400</td>\n",
       "      <td>-0.464761</td>\n",
       "      <td>-0.018446</td>\n",
       "      <td>-0.841247</td>\n",
       "      <td>0.179941</td>\n",
       "      <td>-0.058627</td>\n",
       "    </tr>\n",
       "    <tr>\n",
       "      <th>1</th>\n",
       "      <td>0.278419</td>\n",
       "      <td>-0.016411</td>\n",
       "      <td>-0.123520</td>\n",
       "      <td>-0.998245</td>\n",
       "      <td>-0.975300</td>\n",
       "      <td>-0.960322</td>\n",
       "      <td>-0.998807</td>\n",
       "      <td>-0.974914</td>\n",
       "      <td>-0.957686</td>\n",
       "      <td>-0.943068</td>\n",
       "      <td>...</td>\n",
       "      <td>0.158075</td>\n",
       "      <td>-0.595051</td>\n",
       "      <td>-0.861499</td>\n",
       "      <td>0.053477</td>\n",
       "      <td>-0.007435</td>\n",
       "      <td>-0.732626</td>\n",
       "      <td>0.703511</td>\n",
       "      <td>-0.844788</td>\n",
       "      <td>0.180289</td>\n",
       "      <td>-0.054317</td>\n",
       "    </tr>\n",
       "    <tr>\n",
       "      <th>2</th>\n",
       "      <td>0.279653</td>\n",
       "      <td>-0.019467</td>\n",
       "      <td>-0.113462</td>\n",
       "      <td>-0.995380</td>\n",
       "      <td>-0.967187</td>\n",
       "      <td>-0.978944</td>\n",
       "      <td>-0.996520</td>\n",
       "      <td>-0.963668</td>\n",
       "      <td>-0.977469</td>\n",
       "      <td>-0.938692</td>\n",
       "      <td>...</td>\n",
       "      <td>0.414503</td>\n",
       "      <td>-0.390748</td>\n",
       "      <td>-0.760104</td>\n",
       "      <td>-0.118559</td>\n",
       "      <td>0.177899</td>\n",
       "      <td>0.100699</td>\n",
       "      <td>0.808529</td>\n",
       "      <td>-0.848933</td>\n",
       "      <td>0.180637</td>\n",
       "      <td>-0.049118</td>\n",
       "    </tr>\n",
       "    <tr>\n",
       "      <th>3</th>\n",
       "      <td>0.279174</td>\n",
       "      <td>-0.026201</td>\n",
       "      <td>-0.123283</td>\n",
       "      <td>-0.996091</td>\n",
       "      <td>-0.983403</td>\n",
       "      <td>-0.990675</td>\n",
       "      <td>-0.997099</td>\n",
       "      <td>-0.982750</td>\n",
       "      <td>-0.989302</td>\n",
       "      <td>-0.938692</td>\n",
       "      <td>...</td>\n",
       "      <td>0.404573</td>\n",
       "      <td>-0.117290</td>\n",
       "      <td>-0.482845</td>\n",
       "      <td>-0.036788</td>\n",
       "      <td>-0.012892</td>\n",
       "      <td>0.640011</td>\n",
       "      <td>-0.485366</td>\n",
       "      <td>-0.848649</td>\n",
       "      <td>0.181935</td>\n",
       "      <td>-0.047663</td>\n",
       "    </tr>\n",
       "    <tr>\n",
       "      <th>4</th>\n",
       "      <td>0.276629</td>\n",
       "      <td>-0.016570</td>\n",
       "      <td>-0.115362</td>\n",
       "      <td>-0.998139</td>\n",
       "      <td>-0.980817</td>\n",
       "      <td>-0.990482</td>\n",
       "      <td>-0.998321</td>\n",
       "      <td>-0.979672</td>\n",
       "      <td>-0.990441</td>\n",
       "      <td>-0.942469</td>\n",
       "      <td>...</td>\n",
       "      <td>0.087753</td>\n",
       "      <td>-0.351471</td>\n",
       "      <td>-0.699205</td>\n",
       "      <td>0.123320</td>\n",
       "      <td>0.122542</td>\n",
       "      <td>0.693578</td>\n",
       "      <td>-0.615971</td>\n",
       "      <td>-0.847865</td>\n",
       "      <td>0.185151</td>\n",
       "      <td>-0.043892</td>\n",
       "    </tr>\n",
       "  </tbody>\n",
       "</table>\n",
       "<p>5 rows × 561 columns</p>\n",
       "</div>"
      ],
      "text/plain": [
       "        0         1         2         3         4         5         6    \\\n",
       "0  0.288585 -0.020294 -0.132905 -0.995279 -0.983111 -0.913526 -0.995112   \n",
       "1  0.278419 -0.016411 -0.123520 -0.998245 -0.975300 -0.960322 -0.998807   \n",
       "2  0.279653 -0.019467 -0.113462 -0.995380 -0.967187 -0.978944 -0.996520   \n",
       "3  0.279174 -0.026201 -0.123283 -0.996091 -0.983403 -0.990675 -0.997099   \n",
       "4  0.276629 -0.016570 -0.115362 -0.998139 -0.980817 -0.990482 -0.998321   \n",
       "\n",
       "        7         8         9      ...          551       552       553  \\\n",
       "0 -0.983185 -0.923527 -0.934724    ...    -0.074323 -0.298676 -0.710304   \n",
       "1 -0.974914 -0.957686 -0.943068    ...     0.158075 -0.595051 -0.861499   \n",
       "2 -0.963668 -0.977469 -0.938692    ...     0.414503 -0.390748 -0.760104   \n",
       "3 -0.982750 -0.989302 -0.938692    ...     0.404573 -0.117290 -0.482845   \n",
       "4 -0.979672 -0.990441 -0.942469    ...     0.087753 -0.351471 -0.699205   \n",
       "\n",
       "        554       555       556       557       558       559       560  \n",
       "0 -0.112754  0.030400 -0.464761 -0.018446 -0.841247  0.179941 -0.058627  \n",
       "1  0.053477 -0.007435 -0.732626  0.703511 -0.844788  0.180289 -0.054317  \n",
       "2 -0.118559  0.177899  0.100699  0.808529 -0.848933  0.180637 -0.049118  \n",
       "3 -0.036788 -0.012892  0.640011 -0.485366 -0.848649  0.181935 -0.047663  \n",
       "4  0.123320  0.122542  0.693578 -0.615971 -0.847865  0.185151 -0.043892  \n",
       "\n",
       "[5 rows x 561 columns]"
      ]
     },
     "execution_count": 18,
     "metadata": {},
     "output_type": "execute_result"
    }
   ],
   "source": [
    "x_vars.head()"
   ]
  },
  {
   "cell_type": "code",
   "execution_count": 21,
   "metadata": {
    "collapsed": false
   },
   "outputs": [],
   "source": [
    "#keeping features as column head\n",
    "x_vars.columns=header_list"
   ]
  },
  {
   "cell_type": "code",
   "execution_count": 22,
   "metadata": {
    "collapsed": false,
    "scrolled": true
   },
   "outputs": [
    {
     "data": {
      "text/html": [
       "<div>\n",
       "<table border=\"1\" class=\"dataframe\">\n",
       "  <thead>\n",
       "    <tr style=\"text-align: right;\">\n",
       "      <th></th>\n",
       "      <th>tAcc-Mean-X</th>\n",
       "      <th>tAcc-Mean-Y</th>\n",
       "      <th>tAcc-Mean-Z</th>\n",
       "      <th>tAcc-STD-X</th>\n",
       "      <th>tAcc-STD-Y</th>\n",
       "      <th>tAcc-STD-Z</th>\n",
       "      <th>tAcc-mad-X</th>\n",
       "      <th>tAcc-mad-Y</th>\n",
       "      <th>tAcc-mad-Z</th>\n",
       "      <th>tAcc-max-X</th>\n",
       "      <th>...</th>\n",
       "      <th>fGyroJerk-MeanFreq</th>\n",
       "      <th>fGyroJerk-skewness</th>\n",
       "      <th>fGyroJerk-kurtosis</th>\n",
       "      <th>angle(tAccMean_gravity)</th>\n",
       "      <th>angle(tAccJerkMean)_gravityMean)</th>\n",
       "      <th>angle(tGyroMean_gravityMean)</th>\n",
       "      <th>angle(tGyroJerkMean_gravityMean)</th>\n",
       "      <th>angle(X_gravityMean)</th>\n",
       "      <th>angle(Y_gravityMean)</th>\n",
       "      <th>angle(Z_gravityMean)</th>\n",
       "    </tr>\n",
       "  </thead>\n",
       "  <tbody>\n",
       "    <tr>\n",
       "      <th>0</th>\n",
       "      <td>0.288585</td>\n",
       "      <td>-0.020294</td>\n",
       "      <td>-0.132905</td>\n",
       "      <td>-0.995279</td>\n",
       "      <td>-0.983111</td>\n",
       "      <td>-0.913526</td>\n",
       "      <td>-0.995112</td>\n",
       "      <td>-0.983185</td>\n",
       "      <td>-0.923527</td>\n",
       "      <td>-0.934724</td>\n",
       "      <td>...</td>\n",
       "      <td>-0.074323</td>\n",
       "      <td>-0.298676</td>\n",
       "      <td>-0.710304</td>\n",
       "      <td>-0.112754</td>\n",
       "      <td>0.030400</td>\n",
       "      <td>-0.464761</td>\n",
       "      <td>-0.018446</td>\n",
       "      <td>-0.841247</td>\n",
       "      <td>0.179941</td>\n",
       "      <td>-0.058627</td>\n",
       "    </tr>\n",
       "    <tr>\n",
       "      <th>1</th>\n",
       "      <td>0.278419</td>\n",
       "      <td>-0.016411</td>\n",
       "      <td>-0.123520</td>\n",
       "      <td>-0.998245</td>\n",
       "      <td>-0.975300</td>\n",
       "      <td>-0.960322</td>\n",
       "      <td>-0.998807</td>\n",
       "      <td>-0.974914</td>\n",
       "      <td>-0.957686</td>\n",
       "      <td>-0.943068</td>\n",
       "      <td>...</td>\n",
       "      <td>0.158075</td>\n",
       "      <td>-0.595051</td>\n",
       "      <td>-0.861499</td>\n",
       "      <td>0.053477</td>\n",
       "      <td>-0.007435</td>\n",
       "      <td>-0.732626</td>\n",
       "      <td>0.703511</td>\n",
       "      <td>-0.844788</td>\n",
       "      <td>0.180289</td>\n",
       "      <td>-0.054317</td>\n",
       "    </tr>\n",
       "    <tr>\n",
       "      <th>2</th>\n",
       "      <td>0.279653</td>\n",
       "      <td>-0.019467</td>\n",
       "      <td>-0.113462</td>\n",
       "      <td>-0.995380</td>\n",
       "      <td>-0.967187</td>\n",
       "      <td>-0.978944</td>\n",
       "      <td>-0.996520</td>\n",
       "      <td>-0.963668</td>\n",
       "      <td>-0.977469</td>\n",
       "      <td>-0.938692</td>\n",
       "      <td>...</td>\n",
       "      <td>0.414503</td>\n",
       "      <td>-0.390748</td>\n",
       "      <td>-0.760104</td>\n",
       "      <td>-0.118559</td>\n",
       "      <td>0.177899</td>\n",
       "      <td>0.100699</td>\n",
       "      <td>0.808529</td>\n",
       "      <td>-0.848933</td>\n",
       "      <td>0.180637</td>\n",
       "      <td>-0.049118</td>\n",
       "    </tr>\n",
       "    <tr>\n",
       "      <th>3</th>\n",
       "      <td>0.279174</td>\n",
       "      <td>-0.026201</td>\n",
       "      <td>-0.123283</td>\n",
       "      <td>-0.996091</td>\n",
       "      <td>-0.983403</td>\n",
       "      <td>-0.990675</td>\n",
       "      <td>-0.997099</td>\n",
       "      <td>-0.982750</td>\n",
       "      <td>-0.989302</td>\n",
       "      <td>-0.938692</td>\n",
       "      <td>...</td>\n",
       "      <td>0.404573</td>\n",
       "      <td>-0.117290</td>\n",
       "      <td>-0.482845</td>\n",
       "      <td>-0.036788</td>\n",
       "      <td>-0.012892</td>\n",
       "      <td>0.640011</td>\n",
       "      <td>-0.485366</td>\n",
       "      <td>-0.848649</td>\n",
       "      <td>0.181935</td>\n",
       "      <td>-0.047663</td>\n",
       "    </tr>\n",
       "    <tr>\n",
       "      <th>4</th>\n",
       "      <td>0.276629</td>\n",
       "      <td>-0.016570</td>\n",
       "      <td>-0.115362</td>\n",
       "      <td>-0.998139</td>\n",
       "      <td>-0.980817</td>\n",
       "      <td>-0.990482</td>\n",
       "      <td>-0.998321</td>\n",
       "      <td>-0.979672</td>\n",
       "      <td>-0.990441</td>\n",
       "      <td>-0.942469</td>\n",
       "      <td>...</td>\n",
       "      <td>0.087753</td>\n",
       "      <td>-0.351471</td>\n",
       "      <td>-0.699205</td>\n",
       "      <td>0.123320</td>\n",
       "      <td>0.122542</td>\n",
       "      <td>0.693578</td>\n",
       "      <td>-0.615971</td>\n",
       "      <td>-0.847865</td>\n",
       "      <td>0.185151</td>\n",
       "      <td>-0.043892</td>\n",
       "    </tr>\n",
       "  </tbody>\n",
       "</table>\n",
       "<p>5 rows × 561 columns</p>\n",
       "</div>"
      ],
      "text/plain": [
       "   tAcc-Mean-X  tAcc-Mean-Y  tAcc-Mean-Z  tAcc-STD-X  tAcc-STD-Y  tAcc-STD-Z  \\\n",
       "0     0.288585    -0.020294    -0.132905   -0.995279   -0.983111   -0.913526   \n",
       "1     0.278419    -0.016411    -0.123520   -0.998245   -0.975300   -0.960322   \n",
       "2     0.279653    -0.019467    -0.113462   -0.995380   -0.967187   -0.978944   \n",
       "3     0.279174    -0.026201    -0.123283   -0.996091   -0.983403   -0.990675   \n",
       "4     0.276629    -0.016570    -0.115362   -0.998139   -0.980817   -0.990482   \n",
       "\n",
       "   tAcc-mad-X  tAcc-mad-Y  tAcc-mad-Z  tAcc-max-X          ...           \\\n",
       "0   -0.995112   -0.983185   -0.923527   -0.934724          ...            \n",
       "1   -0.998807   -0.974914   -0.957686   -0.943068          ...            \n",
       "2   -0.996520   -0.963668   -0.977469   -0.938692          ...            \n",
       "3   -0.997099   -0.982750   -0.989302   -0.938692          ...            \n",
       "4   -0.998321   -0.979672   -0.990441   -0.942469          ...            \n",
       "\n",
       "   fGyroJerk-MeanFreq  fGyroJerk-skewness  fGyroJerk-kurtosis  \\\n",
       "0           -0.074323           -0.298676           -0.710304   \n",
       "1            0.158075           -0.595051           -0.861499   \n",
       "2            0.414503           -0.390748           -0.760104   \n",
       "3            0.404573           -0.117290           -0.482845   \n",
       "4            0.087753           -0.351471           -0.699205   \n",
       "\n",
       "   angle(tAccMean_gravity)  angle(tAccJerkMean)_gravityMean)  \\\n",
       "0                -0.112754                          0.030400   \n",
       "1                 0.053477                         -0.007435   \n",
       "2                -0.118559                          0.177899   \n",
       "3                -0.036788                         -0.012892   \n",
       "4                 0.123320                          0.122542   \n",
       "\n",
       "   angle(tGyroMean_gravityMean)  angle(tGyroJerkMean_gravityMean)  \\\n",
       "0                     -0.464761                         -0.018446   \n",
       "1                     -0.732626                          0.703511   \n",
       "2                      0.100699                          0.808529   \n",
       "3                      0.640011                         -0.485366   \n",
       "4                      0.693578                         -0.615971   \n",
       "\n",
       "   angle(X_gravityMean)  angle(Y_gravityMean)  angle(Z_gravityMean)  \n",
       "0             -0.841247              0.179941             -0.058627  \n",
       "1             -0.844788              0.180289             -0.054317  \n",
       "2             -0.848933              0.180637             -0.049118  \n",
       "3             -0.848649              0.181935             -0.047663  \n",
       "4             -0.847865              0.185151             -0.043892  \n",
       "\n",
       "[5 rows x 561 columns]"
      ]
     },
     "execution_count": 22,
     "metadata": {},
     "output_type": "execute_result"
    }
   ],
   "source": [
    "x_vars.head()"
   ]
  },
  {
   "cell_type": "code",
   "execution_count": 24,
   "metadata": {
    "collapsed": false
   },
   "outputs": [],
   "source": [
    "#x_vars.columns[:561]"
   ]
  },
  {
   "cell_type": "code",
   "execution_count": 25,
   "metadata": {
    "collapsed": true
   },
   "outputs": [],
   "source": [
    "#y vars contain the actual position while the recordings were made\n",
    "## 1 = Walking, 2 = Walking Upstairs, 3 = Walking Downstairs, 4 = Sitting, 5 = Standing, 6 = Laying\n",
    "\n",
    "y_var=pd.read_csv(\"C:\\\\Users\\\\Mnsh\\\\Documents\\\\GitHub\\\\Thinkful_downloads\\\\har\\\\UCI HAR Dataset\\\\train\\\\y_train.txt\", header=None, delim_whitespace=True, index_col=False, )"
   ]
  },
  {
   "cell_type": "code",
   "execution_count": 26,
   "metadata": {
    "collapsed": false
   },
   "outputs": [
    {
     "data": {
      "text/html": [
       "<div>\n",
       "<table border=\"1\" class=\"dataframe\">\n",
       "  <thead>\n",
       "    <tr style=\"text-align: right;\">\n",
       "      <th></th>\n",
       "      <th>Activity</th>\n",
       "    </tr>\n",
       "  </thead>\n",
       "  <tbody>\n",
       "    <tr>\n",
       "      <th>0</th>\n",
       "      <td>5</td>\n",
       "    </tr>\n",
       "    <tr>\n",
       "      <th>1</th>\n",
       "      <td>5</td>\n",
       "    </tr>\n",
       "    <tr>\n",
       "      <th>2</th>\n",
       "      <td>5</td>\n",
       "    </tr>\n",
       "    <tr>\n",
       "      <th>3</th>\n",
       "      <td>5</td>\n",
       "    </tr>\n",
       "    <tr>\n",
       "      <th>4</th>\n",
       "      <td>5</td>\n",
       "    </tr>\n",
       "  </tbody>\n",
       "</table>\n",
       "</div>"
      ],
      "text/plain": [
       "   Activity\n",
       "0         5\n",
       "1         5\n",
       "2         5\n",
       "3         5\n",
       "4         5"
      ]
     },
     "execution_count": 26,
     "metadata": {},
     "output_type": "execute_result"
    }
   ],
   "source": [
    "#position or activity while the data was being collected\n",
    "y_var.columns=['Activity']\n",
    "y_var[:5]"
   ]
  },
  {
   "cell_type": "code",
   "execution_count": 27,
   "metadata": {
    "collapsed": false
   },
   "outputs": [
    {
     "data": {
      "text/plain": [
       "[]"
      ]
     },
     "execution_count": 27,
     "metadata": {},
     "output_type": "execute_result"
    }
   ],
   "source": [
    "#finding specific string in columns to work on it\n",
    "#filter_col=[col for col in list(x_vars) if col.startswith('tBodyAccMag')]\n",
    "#filter_col[:5]  #tBodyAccMag is not in any columns"
   ]
  },
  {
   "cell_type": "code",
   "execution_count": 28,
   "metadata": {
    "collapsed": false
   },
   "outputs": [],
   "source": [
    "#x_vars.filter(regex=r'^tBodyAcc-mean\\.', axis=1)\n",
    "#x_vars.columns.map(lambda x: x.startswith('tBodyAccMag')) #works but gives a boolean value"
   ]
  },
  {
   "cell_type": "code",
   "execution_count": 30,
   "metadata": {
    "collapsed": false,
    "scrolled": false
   },
   "outputs": [],
   "source": [
    "#x_vars.tail()"
   ]
  },
  {
   "cell_type": "code",
   "execution_count": 66,
   "metadata": {
    "collapsed": false
   },
   "outputs": [],
   "source": [
    "#df.loc[:, df.columns.to_series().str.contains('a').tolist()]\n",
    "#x_vars.loc[:, x_vars.columns.to_series().str.contains('acc').tolist()]   #not working\n"
   ]
  },
  {
   "cell_type": "code",
   "execution_count": 31,
   "metadata": {
    "collapsed": true
   },
   "outputs": [],
   "source": [
    "# list subjests who carried out each activity\n",
    "subjects = pd.read_csv(\"C:\\\\Users\\\\Mnsh\\\\Documents\\\\GitHub\\\\Thinkful_downloads\\\\har\\\\UCI HAR Dataset\\\\train\\\\subject_train.txt\", header=None, delim_whitespace=True, index_col=False)\n"
   ]
  },
  {
   "cell_type": "code",
   "execution_count": 33,
   "metadata": {
    "collapsed": true
   },
   "outputs": [],
   "source": [
    "#column title\n",
    "subjects.columns=['Subjects']"
   ]
  },
  {
   "cell_type": "code",
   "execution_count": 34,
   "metadata": {
    "collapsed": false
   },
   "outputs": [
    {
     "data": {
      "text/html": [
       "<div>\n",
       "<table border=\"1\" class=\"dataframe\">\n",
       "  <thead>\n",
       "    <tr style=\"text-align: right;\">\n",
       "      <th></th>\n",
       "      <th>Subjects</th>\n",
       "    </tr>\n",
       "  </thead>\n",
       "  <tbody>\n",
       "    <tr>\n",
       "      <th>7347</th>\n",
       "      <td>30</td>\n",
       "    </tr>\n",
       "    <tr>\n",
       "      <th>7348</th>\n",
       "      <td>30</td>\n",
       "    </tr>\n",
       "    <tr>\n",
       "      <th>7349</th>\n",
       "      <td>30</td>\n",
       "    </tr>\n",
       "    <tr>\n",
       "      <th>7350</th>\n",
       "      <td>30</td>\n",
       "    </tr>\n",
       "    <tr>\n",
       "      <th>7351</th>\n",
       "      <td>30</td>\n",
       "    </tr>\n",
       "  </tbody>\n",
       "</table>\n",
       "</div>"
      ],
      "text/plain": [
       "      Subjects\n",
       "7347        30\n",
       "7348        30\n",
       "7349        30\n",
       "7350        30\n",
       "7351        30"
      ]
     },
     "execution_count": 34,
     "metadata": {},
     "output_type": "execute_result"
    }
   ],
   "source": [
    "subjects.tail()"
   ]
  },
  {
   "cell_type": "code",
   "execution_count": 35,
   "metadata": {
    "collapsed": false
   },
   "outputs": [],
   "source": [
    "#Merging dataframes complete with activity codes - features and their reading and the subjecsts who carried out activitues\n",
    "data = pd.merge(y_var, x_vars, left_index=True, right_index=True)\n",
    "data = pd.merge(data, subjects, left_index=True, right_index=True)"
   ]
  },
  {
   "cell_type": "code",
   "execution_count": 36,
   "metadata": {
    "collapsed": false,
    "scrolled": true
   },
   "outputs": [
    {
     "data": {
      "text/html": [
       "<div>\n",
       "<table border=\"1\" class=\"dataframe\">\n",
       "  <thead>\n",
       "    <tr style=\"text-align: right;\">\n",
       "      <th></th>\n",
       "      <th>Activity</th>\n",
       "      <th>tAcc-Mean-X</th>\n",
       "      <th>tAcc-Mean-Y</th>\n",
       "      <th>tAcc-Mean-Z</th>\n",
       "      <th>tAcc-STD-X</th>\n",
       "      <th>tAcc-STD-Y</th>\n",
       "      <th>tAcc-STD-Z</th>\n",
       "      <th>tAcc-mad-X</th>\n",
       "      <th>tAcc-mad-Y</th>\n",
       "      <th>tAcc-mad-Z</th>\n",
       "      <th>...</th>\n",
       "      <th>fGyroJerk-skewness</th>\n",
       "      <th>fGyroJerk-kurtosis</th>\n",
       "      <th>angle(tAccMean_gravity)</th>\n",
       "      <th>angle(tAccJerkMean)_gravityMean)</th>\n",
       "      <th>angle(tGyroMean_gravityMean)</th>\n",
       "      <th>angle(tGyroJerkMean_gravityMean)</th>\n",
       "      <th>angle(X_gravityMean)</th>\n",
       "      <th>angle(Y_gravityMean)</th>\n",
       "      <th>angle(Z_gravityMean)</th>\n",
       "      <th>Subjects</th>\n",
       "    </tr>\n",
       "  </thead>\n",
       "  <tbody>\n",
       "    <tr>\n",
       "      <th>7347</th>\n",
       "      <td>2</td>\n",
       "      <td>0.299665</td>\n",
       "      <td>-0.057193</td>\n",
       "      <td>-0.181233</td>\n",
       "      <td>-0.195387</td>\n",
       "      <td>0.039905</td>\n",
       "      <td>0.077078</td>\n",
       "      <td>-0.282301</td>\n",
       "      <td>0.043616</td>\n",
       "      <td>0.060410</td>\n",
       "      <td>...</td>\n",
       "      <td>-0.588433</td>\n",
       "      <td>-0.880324</td>\n",
       "      <td>-0.190437</td>\n",
       "      <td>0.829718</td>\n",
       "      <td>0.206972</td>\n",
       "      <td>-0.425619</td>\n",
       "      <td>-0.791883</td>\n",
       "      <td>0.238604</td>\n",
       "      <td>0.049819</td>\n",
       "      <td>30</td>\n",
       "    </tr>\n",
       "    <tr>\n",
       "      <th>7348</th>\n",
       "      <td>2</td>\n",
       "      <td>0.273853</td>\n",
       "      <td>-0.007749</td>\n",
       "      <td>-0.147468</td>\n",
       "      <td>-0.235309</td>\n",
       "      <td>0.004816</td>\n",
       "      <td>0.059280</td>\n",
       "      <td>-0.322552</td>\n",
       "      <td>-0.029456</td>\n",
       "      <td>0.080585</td>\n",
       "      <td>...</td>\n",
       "      <td>-0.390738</td>\n",
       "      <td>-0.680744</td>\n",
       "      <td>0.064907</td>\n",
       "      <td>0.875679</td>\n",
       "      <td>-0.879033</td>\n",
       "      <td>0.400219</td>\n",
       "      <td>-0.771840</td>\n",
       "      <td>0.252676</td>\n",
       "      <td>0.050053</td>\n",
       "      <td>30</td>\n",
       "    </tr>\n",
       "    <tr>\n",
       "      <th>7349</th>\n",
       "      <td>2</td>\n",
       "      <td>0.273387</td>\n",
       "      <td>-0.017011</td>\n",
       "      <td>-0.045022</td>\n",
       "      <td>-0.218218</td>\n",
       "      <td>-0.103822</td>\n",
       "      <td>0.274533</td>\n",
       "      <td>-0.304515</td>\n",
       "      <td>-0.098913</td>\n",
       "      <td>0.332584</td>\n",
       "      <td>...</td>\n",
       "      <td>0.025145</td>\n",
       "      <td>-0.304029</td>\n",
       "      <td>0.052806</td>\n",
       "      <td>-0.266724</td>\n",
       "      <td>0.864404</td>\n",
       "      <td>0.701169</td>\n",
       "      <td>-0.779133</td>\n",
       "      <td>0.249145</td>\n",
       "      <td>0.040811</td>\n",
       "      <td>30</td>\n",
       "    </tr>\n",
       "    <tr>\n",
       "      <th>7350</th>\n",
       "      <td>2</td>\n",
       "      <td>0.289654</td>\n",
       "      <td>-0.018843</td>\n",
       "      <td>-0.158281</td>\n",
       "      <td>-0.219139</td>\n",
       "      <td>-0.111412</td>\n",
       "      <td>0.268893</td>\n",
       "      <td>-0.310487</td>\n",
       "      <td>-0.068200</td>\n",
       "      <td>0.319473</td>\n",
       "      <td>...</td>\n",
       "      <td>0.063907</td>\n",
       "      <td>-0.344314</td>\n",
       "      <td>-0.101360</td>\n",
       "      <td>0.700740</td>\n",
       "      <td>0.936674</td>\n",
       "      <td>-0.589479</td>\n",
       "      <td>-0.785181</td>\n",
       "      <td>0.246432</td>\n",
       "      <td>0.025339</td>\n",
       "      <td>30</td>\n",
       "    </tr>\n",
       "    <tr>\n",
       "      <th>7351</th>\n",
       "      <td>2</td>\n",
       "      <td>0.351503</td>\n",
       "      <td>-0.012423</td>\n",
       "      <td>-0.203867</td>\n",
       "      <td>-0.269270</td>\n",
       "      <td>-0.087212</td>\n",
       "      <td>0.177404</td>\n",
       "      <td>-0.377404</td>\n",
       "      <td>-0.038678</td>\n",
       "      <td>0.229430</td>\n",
       "      <td>...</td>\n",
       "      <td>-0.387052</td>\n",
       "      <td>-0.740738</td>\n",
       "      <td>-0.280088</td>\n",
       "      <td>-0.007739</td>\n",
       "      <td>-0.056088</td>\n",
       "      <td>-0.616956</td>\n",
       "      <td>-0.783267</td>\n",
       "      <td>0.246809</td>\n",
       "      <td>0.036695</td>\n",
       "      <td>30</td>\n",
       "    </tr>\n",
       "  </tbody>\n",
       "</table>\n",
       "<p>5 rows × 563 columns</p>\n",
       "</div>"
      ],
      "text/plain": [
       "      Activity  tAcc-Mean-X  tAcc-Mean-Y  tAcc-Mean-Z  tAcc-STD-X  tAcc-STD-Y  \\\n",
       "7347         2     0.299665    -0.057193    -0.181233   -0.195387    0.039905   \n",
       "7348         2     0.273853    -0.007749    -0.147468   -0.235309    0.004816   \n",
       "7349         2     0.273387    -0.017011    -0.045022   -0.218218   -0.103822   \n",
       "7350         2     0.289654    -0.018843    -0.158281   -0.219139   -0.111412   \n",
       "7351         2     0.351503    -0.012423    -0.203867   -0.269270   -0.087212   \n",
       "\n",
       "      tAcc-STD-Z  tAcc-mad-X  tAcc-mad-Y  tAcc-mad-Z    ...     \\\n",
       "7347    0.077078   -0.282301    0.043616    0.060410    ...      \n",
       "7348    0.059280   -0.322552   -0.029456    0.080585    ...      \n",
       "7349    0.274533   -0.304515   -0.098913    0.332584    ...      \n",
       "7350    0.268893   -0.310487   -0.068200    0.319473    ...      \n",
       "7351    0.177404   -0.377404   -0.038678    0.229430    ...      \n",
       "\n",
       "      fGyroJerk-skewness  fGyroJerk-kurtosis  angle(tAccMean_gravity)  \\\n",
       "7347           -0.588433           -0.880324                -0.190437   \n",
       "7348           -0.390738           -0.680744                 0.064907   \n",
       "7349            0.025145           -0.304029                 0.052806   \n",
       "7350            0.063907           -0.344314                -0.101360   \n",
       "7351           -0.387052           -0.740738                -0.280088   \n",
       "\n",
       "      angle(tAccJerkMean)_gravityMean)  angle(tGyroMean_gravityMean)  \\\n",
       "7347                          0.829718                      0.206972   \n",
       "7348                          0.875679                     -0.879033   \n",
       "7349                         -0.266724                      0.864404   \n",
       "7350                          0.700740                      0.936674   \n",
       "7351                         -0.007739                     -0.056088   \n",
       "\n",
       "      angle(tGyroJerkMean_gravityMean)  angle(X_gravityMean)  \\\n",
       "7347                         -0.425619             -0.791883   \n",
       "7348                          0.400219             -0.771840   \n",
       "7349                          0.701169             -0.779133   \n",
       "7350                         -0.589479             -0.785181   \n",
       "7351                         -0.616956             -0.783267   \n",
       "\n",
       "      angle(Y_gravityMean)  angle(Z_gravityMean)  Subjects  \n",
       "7347              0.238604              0.049819        30  \n",
       "7348              0.252676              0.050053        30  \n",
       "7349              0.249145              0.040811        30  \n",
       "7350              0.246432              0.025339        30  \n",
       "7351              0.246809              0.036695        30  \n",
       "\n",
       "[5 rows x 563 columns]"
      ]
     },
     "execution_count": 36,
     "metadata": {},
     "output_type": "execute_result"
    }
   ],
   "source": [
    "data.tail()"
   ]
  },
  {
   "cell_type": "code",
   "execution_count": 38,
   "metadata": {
    "collapsed": false
   },
   "outputs": [
    {
     "name": "stderr",
     "output_type": "stream",
     "text": [
      "C:\\Users\\Mnsh\\Anaconda3\\lib\\site-packages\\ipykernel\\__main__.py:3: FutureWarning: 'labels' is deprecated. Use 'codes' instead\n",
      "  app.launch_new_instance()\n"
     ]
    }
   ],
   "source": [
    "## Make activity a categorical variable\n",
    "#Activity is already coded in numbers may be this step is not required\n",
    "data['Activity']= pd.Categorical(data['Activity']).labels"
   ]
  },
  {
   "cell_type": "code",
   "execution_count": 39,
   "metadata": {
    "collapsed": false
   },
   "outputs": [
    {
     "data": {
      "text/html": [
       "<div>\n",
       "<table border=\"1\" class=\"dataframe\">\n",
       "  <thead>\n",
       "    <tr style=\"text-align: right;\">\n",
       "      <th></th>\n",
       "      <th>Activity</th>\n",
       "      <th>tAcc-Mean-X</th>\n",
       "      <th>tAcc-Mean-Y</th>\n",
       "      <th>tAcc-Mean-Z</th>\n",
       "      <th>tAcc-STD-X</th>\n",
       "      <th>tAcc-STD-Y</th>\n",
       "      <th>tAcc-STD-Z</th>\n",
       "      <th>tAcc-mad-X</th>\n",
       "      <th>tAcc-mad-Y</th>\n",
       "      <th>tAcc-mad-Z</th>\n",
       "      <th>...</th>\n",
       "      <th>fGyroJerk-skewness</th>\n",
       "      <th>fGyroJerk-kurtosis</th>\n",
       "      <th>angle(tAccMean_gravity)</th>\n",
       "      <th>angle(tAccJerkMean)_gravityMean)</th>\n",
       "      <th>angle(tGyroMean_gravityMean)</th>\n",
       "      <th>angle(tGyroJerkMean_gravityMean)</th>\n",
       "      <th>angle(X_gravityMean)</th>\n",
       "      <th>angle(Y_gravityMean)</th>\n",
       "      <th>angle(Z_gravityMean)</th>\n",
       "      <th>Subjects</th>\n",
       "    </tr>\n",
       "  </thead>\n",
       "  <tbody>\n",
       "    <tr>\n",
       "      <th>0</th>\n",
       "      <td>4</td>\n",
       "      <td>0.288585</td>\n",
       "      <td>-0.020294</td>\n",
       "      <td>-0.132905</td>\n",
       "      <td>-0.995279</td>\n",
       "      <td>-0.983111</td>\n",
       "      <td>-0.913526</td>\n",
       "      <td>-0.995112</td>\n",
       "      <td>-0.983185</td>\n",
       "      <td>-0.923527</td>\n",
       "      <td>...</td>\n",
       "      <td>-0.298676</td>\n",
       "      <td>-0.710304</td>\n",
       "      <td>-0.112754</td>\n",
       "      <td>0.030400</td>\n",
       "      <td>-0.464761</td>\n",
       "      <td>-0.018446</td>\n",
       "      <td>-0.841247</td>\n",
       "      <td>0.179941</td>\n",
       "      <td>-0.058627</td>\n",
       "      <td>1</td>\n",
       "    </tr>\n",
       "    <tr>\n",
       "      <th>1</th>\n",
       "      <td>4</td>\n",
       "      <td>0.278419</td>\n",
       "      <td>-0.016411</td>\n",
       "      <td>-0.123520</td>\n",
       "      <td>-0.998245</td>\n",
       "      <td>-0.975300</td>\n",
       "      <td>-0.960322</td>\n",
       "      <td>-0.998807</td>\n",
       "      <td>-0.974914</td>\n",
       "      <td>-0.957686</td>\n",
       "      <td>...</td>\n",
       "      <td>-0.595051</td>\n",
       "      <td>-0.861499</td>\n",
       "      <td>0.053477</td>\n",
       "      <td>-0.007435</td>\n",
       "      <td>-0.732626</td>\n",
       "      <td>0.703511</td>\n",
       "      <td>-0.844788</td>\n",
       "      <td>0.180289</td>\n",
       "      <td>-0.054317</td>\n",
       "      <td>1</td>\n",
       "    </tr>\n",
       "    <tr>\n",
       "      <th>2</th>\n",
       "      <td>4</td>\n",
       "      <td>0.279653</td>\n",
       "      <td>-0.019467</td>\n",
       "      <td>-0.113462</td>\n",
       "      <td>-0.995380</td>\n",
       "      <td>-0.967187</td>\n",
       "      <td>-0.978944</td>\n",
       "      <td>-0.996520</td>\n",
       "      <td>-0.963668</td>\n",
       "      <td>-0.977469</td>\n",
       "      <td>...</td>\n",
       "      <td>-0.390748</td>\n",
       "      <td>-0.760104</td>\n",
       "      <td>-0.118559</td>\n",
       "      <td>0.177899</td>\n",
       "      <td>0.100699</td>\n",
       "      <td>0.808529</td>\n",
       "      <td>-0.848933</td>\n",
       "      <td>0.180637</td>\n",
       "      <td>-0.049118</td>\n",
       "      <td>1</td>\n",
       "    </tr>\n",
       "    <tr>\n",
       "      <th>3</th>\n",
       "      <td>4</td>\n",
       "      <td>0.279174</td>\n",
       "      <td>-0.026201</td>\n",
       "      <td>-0.123283</td>\n",
       "      <td>-0.996091</td>\n",
       "      <td>-0.983403</td>\n",
       "      <td>-0.990675</td>\n",
       "      <td>-0.997099</td>\n",
       "      <td>-0.982750</td>\n",
       "      <td>-0.989302</td>\n",
       "      <td>...</td>\n",
       "      <td>-0.117290</td>\n",
       "      <td>-0.482845</td>\n",
       "      <td>-0.036788</td>\n",
       "      <td>-0.012892</td>\n",
       "      <td>0.640011</td>\n",
       "      <td>-0.485366</td>\n",
       "      <td>-0.848649</td>\n",
       "      <td>0.181935</td>\n",
       "      <td>-0.047663</td>\n",
       "      <td>1</td>\n",
       "    </tr>\n",
       "    <tr>\n",
       "      <th>4</th>\n",
       "      <td>4</td>\n",
       "      <td>0.276629</td>\n",
       "      <td>-0.016570</td>\n",
       "      <td>-0.115362</td>\n",
       "      <td>-0.998139</td>\n",
       "      <td>-0.980817</td>\n",
       "      <td>-0.990482</td>\n",
       "      <td>-0.998321</td>\n",
       "      <td>-0.979672</td>\n",
       "      <td>-0.990441</td>\n",
       "      <td>...</td>\n",
       "      <td>-0.351471</td>\n",
       "      <td>-0.699205</td>\n",
       "      <td>0.123320</td>\n",
       "      <td>0.122542</td>\n",
       "      <td>0.693578</td>\n",
       "      <td>-0.615971</td>\n",
       "      <td>-0.847865</td>\n",
       "      <td>0.185151</td>\n",
       "      <td>-0.043892</td>\n",
       "      <td>1</td>\n",
       "    </tr>\n",
       "  </tbody>\n",
       "</table>\n",
       "<p>5 rows × 563 columns</p>\n",
       "</div>"
      ],
      "text/plain": [
       "   Activity  tAcc-Mean-X  tAcc-Mean-Y  tAcc-Mean-Z  tAcc-STD-X  tAcc-STD-Y  \\\n",
       "0         4     0.288585    -0.020294    -0.132905   -0.995279   -0.983111   \n",
       "1         4     0.278419    -0.016411    -0.123520   -0.998245   -0.975300   \n",
       "2         4     0.279653    -0.019467    -0.113462   -0.995380   -0.967187   \n",
       "3         4     0.279174    -0.026201    -0.123283   -0.996091   -0.983403   \n",
       "4         4     0.276629    -0.016570    -0.115362   -0.998139   -0.980817   \n",
       "\n",
       "   tAcc-STD-Z  tAcc-mad-X  tAcc-mad-Y  tAcc-mad-Z    ...     \\\n",
       "0   -0.913526   -0.995112   -0.983185   -0.923527    ...      \n",
       "1   -0.960322   -0.998807   -0.974914   -0.957686    ...      \n",
       "2   -0.978944   -0.996520   -0.963668   -0.977469    ...      \n",
       "3   -0.990675   -0.997099   -0.982750   -0.989302    ...      \n",
       "4   -0.990482   -0.998321   -0.979672   -0.990441    ...      \n",
       "\n",
       "   fGyroJerk-skewness  fGyroJerk-kurtosis  angle(tAccMean_gravity)  \\\n",
       "0           -0.298676           -0.710304                -0.112754   \n",
       "1           -0.595051           -0.861499                 0.053477   \n",
       "2           -0.390748           -0.760104                -0.118559   \n",
       "3           -0.117290           -0.482845                -0.036788   \n",
       "4           -0.351471           -0.699205                 0.123320   \n",
       "\n",
       "   angle(tAccJerkMean)_gravityMean)  angle(tGyroMean_gravityMean)  \\\n",
       "0                          0.030400                     -0.464761   \n",
       "1                         -0.007435                     -0.732626   \n",
       "2                          0.177899                      0.100699   \n",
       "3                         -0.012892                      0.640011   \n",
       "4                          0.122542                      0.693578   \n",
       "\n",
       "   angle(tGyroJerkMean_gravityMean)  angle(X_gravityMean)  \\\n",
       "0                         -0.018446             -0.841247   \n",
       "1                          0.703511             -0.844788   \n",
       "2                          0.808529             -0.848933   \n",
       "3                         -0.485366             -0.848649   \n",
       "4                         -0.615971             -0.847865   \n",
       "\n",
       "   angle(Y_gravityMean)  angle(Z_gravityMean)  Subjects  \n",
       "0              0.179941             -0.058627         1  \n",
       "1              0.180289             -0.054317         1  \n",
       "2              0.180637             -0.049118         1  \n",
       "3              0.181935             -0.047663         1  \n",
       "4              0.185151             -0.043892         1  \n",
       "\n",
       "[5 rows x 563 columns]"
      ]
     },
     "execution_count": 39,
     "metadata": {},
     "output_type": "execute_result"
    }
   ],
   "source": [
    "data.head()"
   ]
  },
  {
   "cell_type": "code",
   "execution_count": 40,
   "metadata": {
    "collapsed": false
   },
   "outputs": [],
   "source": [
    "## Split out test data as per instruction given 4 subjects for train, 6 for test and 6 for validation\n",
    "fortrain = data.query('Subjects >= 27')\n",
    "fortest = data.query('Subjects<= 6')\n",
    "forval = data.query(\"(Subjects >= 21) & (Subjects < 27)\")"
   ]
  },
  {
   "cell_type": "code",
   "execution_count": 41,
   "metadata": {
    "collapsed": true
   },
   "outputs": [],
   "source": [
    "#imports for analysis \n",
    "import matplotlib.pyplot as plt\n",
    "from sklearn.ensemble import RandomForestClassifier\n",
    "import sklearn.metrics as skm\n",
    "import pylab as pl\n"
   ]
  },
  {
   "cell_type": "code",
   "execution_count": 42,
   "metadata": {
    "collapsed": false
   },
   "outputs": [
    {
     "data": {
      "text/plain": [
       "RandomForestClassifier(bootstrap=True, class_weight=None, criterion='gini',\n",
       "            max_depth=None, max_features='auto', max_leaf_nodes=None,\n",
       "            min_impurity_split=1e-07, min_samples_leaf=1,\n",
       "            min_samples_split=2, min_weight_fraction_leaf=0.0,\n",
       "            n_estimators=50, n_jobs=1, oob_score=True, random_state=None,\n",
       "            verbose=0, warm_start=False)"
      ]
     },
     "execution_count": 42,
     "metadata": {},
     "output_type": "execute_result"
    }
   ],
   "source": [
    "## Fit random forest\n",
    "train_target = fortrain['Activity']\n",
    "train_data = fortrain.ix[:,1:-1] # slicing columns we don't need\n",
    "rfc = RandomForestClassifier(n_estimators=50, oob_score=True) # this is 50 now\n",
    "rfc.fit(train_data, train_target)"
   ]
  },
  {
   "cell_type": "code",
   "execution_count": 43,
   "metadata": {
    "collapsed": false
   },
   "outputs": [
    {
     "data": {
      "text/plain": [
       "0.98922558922558923"
      ]
     },
     "execution_count": 43,
     "metadata": {},
     "output_type": "execute_result"
    }
   ],
   "source": [
    "## See oob (out of bag) to show accuracty\n",
    "rfc.oob_score_  # Is this a better score? \n"
   ]
  },
  {
   "cell_type": "code",
   "execution_count": 44,
   "metadata": {
    "collapsed": false
   },
   "outputs": [],
   "source": [
    "#finding the most important features, model can be tuned further by selecting out bottom features\n",
    "#The series weight up to 1\n",
    "importances = rfc.feature_importances_"
   ]
  },
  {
   "cell_type": "code",
   "execution_count": 45,
   "metadata": {
    "collapsed": false,
    "scrolled": true
   },
   "outputs": [],
   "source": [
    "#importances.sort()  #gives different results\n",
    "#importances[-10:]"
   ]
  },
  {
   "cell_type": "code",
   "execution_count": 46,
   "metadata": {
    "collapsed": false,
    "scrolled": true
   },
   "outputs": [
    {
     "name": "stdout",
     "output_type": "stream",
     "text": [
      "1. feature 40 (0.054720)\n",
      "2. feature 49 (0.035514)\n",
      "3. feature 56 (0.034171)\n",
      "4. feature 558 (0.026031)\n",
      "5. feature 41 (0.023818)\n",
      "6. feature 52 (0.023498)\n",
      "7. feature 51 (0.022332)\n",
      "8. feature 42 (0.022149)\n",
      "9. feature 560 (0.016717)\n",
      "10. feature 344 (0.014708)\n"
     ]
    }
   ],
   "source": [
    "#printing the respective feature and their weight\n",
    "#Top 1 is responsible for 5.4% of result, and top 10 about 26%\n",
    "std = np.std([tree.feature_importances_ for tree in rfc.estimators_],\n",
    "             axis=0)\n",
    "indices = np.argsort(importances)[::-1]\n",
    "for i in range(10): # finding 10 most important\n",
    "    print(\"%d. feature %d (%f)\" % (i + 1, indices[i], importances[indices[i]]))"
   ]
  },
  {
   "cell_type": "code",
   "execution_count": null,
   "metadata": {
    "collapsed": true
   },
   "outputs": [],
   "source": [
    "#strategies to improve accuracy, precision  and recall\n",
    "#keep dropping 20% least important features they are probably redundant\n",
    "#vary the estimators"
   ]
  },
  {
   "cell_type": "code",
   "execution_count": 52,
   "metadata": {
    "collapsed": false
   },
   "outputs": [],
   "source": [
    "%matplotlib inline\n",
    "imp_list_ft=[]\n",
    "imp_list_val=[]\n",
    "for i in range (10):\n",
    "    imp_list_ft.append(x_vars.columns.values[indices[i+1]])\n",
    "    imp_list_val.append(importances[indices[i]])\n",
    "#imp_list_ft\n",
    "#imp_list_val\n",
    "#plt.hist(x, bins=xbins, color='blue')\n",
    "#plt.hist(imp_list_val, color='blue')\n"
   ]
  },
  {
   "cell_type": "code",
   "execution_count": 51,
   "metadata": {
    "collapsed": false
   },
   "outputs": [
    {
     "data": {
      "image/png": "[encoded data removed]",
      "text/plain": [
       "<matplotlib.figure.Figure at 0x1ea2f83add8>"
      ]
     },
     "metadata": {},
     "output_type": "display_data"
    }
   ],
   "source": [
    "#http://scikit-learn.org/stable/auto_examples/ensemble/plot_forest_importances.html\n",
    "#plotting importance score along with respective feature\n",
    "import matplotlib.pyplot as plt\n",
    "\n",
    "plt.figure(figsize=(12,6))\n",
    "plt.bar(range(10), imp_list_val)\n",
    "plt.xticks(range(10), imp_list_ft)\n",
    "\n",
    "plt.show()"
   ]
  },
  {
   "cell_type": "code",
   "execution_count": 55,
   "metadata": {
    "collapsed": false,
    "scrolled": true
   },
   "outputs": [],
   "source": [
    "#validation dataset\n",
    "#forval.head()"
   ]
  },
  {
   "cell_type": "code",
   "execution_count": 57,
   "metadata": {
    "collapsed": false
   },
   "outputs": [],
   "source": [
    "#visualizing the required slice\n",
    "#forval.ix[:,1:-1].head()"
   ]
  },
  {
   "cell_type": "code",
   "execution_count": 59,
   "metadata": {
    "collapsed": false
   },
   "outputs": [
    {
     "data": {
      "text/plain": [
       "array([4, 3, 3, ..., 1, 1, 1], dtype=int8)"
      ]
     },
     "execution_count": 59,
     "metadata": {},
     "output_type": "execute_result"
    }
   ],
   "source": [
    "## define validation set and make predictions\n",
    "val_target = forval['Activity']\n",
    "val_data = forval.ix[:,1:-1] # i changed his code here to match other data slices\n",
    "val_pred = rfc.predict(val_data)\n",
    "val_pred"
   ]
  },
  {
   "cell_type": "code",
   "execution_count": 60,
   "metadata": {
    "collapsed": false
   },
   "outputs": [
    {
     "data": {
      "text/plain": [
       "array([4, 4, 4, ..., 2, 2, 2], dtype=int8)"
      ]
     },
     "execution_count": 60,
     "metadata": {},
     "output_type": "execute_result"
    }
   ],
   "source": [
    "## Define test set and make predictions\n",
    "test_target = fortest['Activity']\n",
    "test_data = fortest.ix[:,1:-1]\n",
    "test_pred = rfc.predict(test_data)\n",
    "test_pred"
   ]
  },
  {
   "cell_type": "code",
   "execution_count": 61,
   "metadata": {
    "collapsed": false
   },
   "outputs": [
    {
     "name": "stdout",
     "output_type": "stream",
     "text": [
      "mean accuracy score for validation set = 0.786540\n",
      "mean accuracy score for test set = 0.827376\n"
     ]
    }
   ],
   "source": [
    "## calculate and print accuracy scores\n",
    "print(\"mean accuracy score for validation set = %f\" % (rfc.score(val_data, val_target)))\n",
    "print(\"mean accuracy score for test set = %f\" % (rfc.score(test_data, test_target)))"
   ]
  },
  {
   "cell_type": "code",
   "execution_count": 62,
   "metadata": {
    "collapsed": false,
    "scrolled": true
   },
   "outputs": [
    {
     "data": {
      "image/png": "[encoded data removed]",
      "text/plain": [
       "<matplotlib.figure.Figure at 0x1ea2f887e48>"
      ]
     },
     "metadata": {},
     "output_type": "display_data"
    }
   ],
   "source": [
    "## visualize confusion matrix\n",
    "test_cm = skm.confusion_matrix(test_target, test_pred)\n",
    "pl.matshow(test_cm)\n",
    "pl.title('Confusion matrix for test data')\n",
    "pl.colorbar()\n",
    "pl.show()\n",
    "# confusion matrix lays out instances of predicated class in columns and actual class in row\n",
    "# i get idea but not how to read"
   ]
  },
  {
   "cell_type": "code",
   "execution_count": null,
   "metadata": {
    "collapsed": true
   },
   "outputs": [],
   "source": [
    "'''Coming to confusion matrix, it is much detailed representation of what's going on with \n",
    "your labels. So there were 71 points in the first class (label 0). Out of these, your model \n",
    "was successful in identifying 54 of those correctly in label 0, but 17 were marked as label 4. \n",
    "Similarly look at second row. There were 43 points in class 1, but 36 of them were marked correctly. \n",
    "Your classifier predicted 1 in class 3 and 6 in class 4.\n",
    "#http://stackoverflow.com/questions/30746460/how-to-interpret-scikits-learn-confusion-matrix-and-classification-report\n",
    "'''"
   ]
  },
  {
   "cell_type": "code",
   "execution_count": 63,
   "metadata": {
    "collapsed": false
   },
   "outputs": [
    {
     "name": "stdout",
     "output_type": "stream",
     "text": [
      "Accuracy = 0.827376\n",
      "Precision = 0.831635\n",
      "Recall = 0.824259\n",
      "F1 score = 0.819736\n"
     ]
    }
   ],
   "source": [
    "print(\"Accuracy = %f\" %(skm.accuracy_score(test_target, test_pred)))\n",
    "#print(\"Precision = %f\" %(skm.precision_score(test_target, test_pred)))\n",
    "print(\"Precision = %f\" %(skm.precision_score(test_target, test_pred, average=\"macro\")))\n",
    "## Precision = number of true positives vs false positives\n",
    "print(\"Recall = %f\" %(skm.recall_score(test_target, test_pred, average=\"macro\")))\n",
    "print(\"F1 score = %f\" %(skm.f1_score(test_target, test_pred, average=\"macro\")))\n",
    "## F1 = weighted average of the precision and the recall. 1 is best value. \n"
   ]
  },
  {
   "cell_type": "code",
   "execution_count": 64,
   "metadata": {
    "collapsed": false
   },
   "outputs": [
    {
     "data": {
      "text/plain": [
       "array([4, 4, 4, ..., 2, 2, 2], dtype=int8)"
      ]
     },
     "execution_count": 64,
     "metadata": {},
     "output_type": "execute_result"
    }
   ],
   "source": [
    "test_pred[:-15]"
   ]
  },
  {
   "cell_type": "code",
   "execution_count": 65,
   "metadata": {
    "collapsed": true
   },
   "outputs": [],
   "source": [
    "#plotting histogram of activies for tAcc-mean\n",
    "\n",
    "selected_cols=[col for col in x_vars.columns if 'tAcc-Mean' in col]  "
   ]
  },
  {
   "cell_type": "code",
   "execution_count": 66,
   "metadata": {
    "collapsed": false
   },
   "outputs": [
    {
     "name": "stdout",
     "output_type": "stream",
     "text": [
      "['tAcc-Mean-X', 'tAcc-Mean-Y', 'tAcc-Mean-Z', 'tAcc-Mean']\n"
     ]
    }
   ],
   "source": [
    "print (selected_cols)"
   ]
  },
  {
   "cell_type": "code",
   "execution_count": 68,
   "metadata": {
    "collapsed": false,
    "scrolled": true
   },
   "outputs": [],
   "source": [
    "#df['N'].hist(by=df['Letter'])\n",
    "\n",
    "%matplotlib inline\n",
    "#x_vars[selected_cols].plot()\n",
    "#x_vars[selecte_cols].hist(by = x_vars['Activity'])"
   ]
  },
  {
   "cell_type": "code",
   "execution_count": 69,
   "metadata": {
    "collapsed": false,
    "scrolled": true
   },
   "outputs": [
    {
     "data": {
      "text/plain": [
       "array([[<matplotlib.axes._subplots.AxesSubplot object at 0x000001EA2E82B9E8>,\n",
       "        <matplotlib.axes._subplots.AxesSubplot object at 0x000001EA2F2D3128>],\n",
       "       [<matplotlib.axes._subplots.AxesSubplot object at 0x000001EA2F921A90>,\n",
       "        <matplotlib.axes._subplots.AxesSubplot object at 0x000001EA2F994E48>],\n",
       "       [<matplotlib.axes._subplots.AxesSubplot object at 0x000001EA2F84C860>,\n",
       "        <matplotlib.axes._subplots.AxesSubplot object at 0x000001EA359029B0>]], dtype=object)"
      ]
     },
     "execution_count": 69,
     "metadata": {},
     "output_type": "execute_result"
    },
    {
     "data": {
      "image/png": "[encoded data removed]",
      "text/plain": [
       "<matplotlib.figure.Figure at 0x1ea2f9e76a0>"
      ]
     },
     "metadata": {},
     "output_type": "display_data"
    }
   ],
   "source": [
    "#data[selecte_cols].hist(by = data['Activity'])\n",
    "data['tAcc-Mean'].hist(by = data['Activity'])"
   ]
  },
  {
   "cell_type": "code",
   "execution_count": null,
   "metadata": {
    "collapsed": true
   },
   "outputs": [],
   "source": []
  }
 ],
 "metadata": {
  "kernelspec": {
   "display_name": "Python [default]",
   "language": "python",
   "name": "python3"
  },
  "language_info": {
   "codemirror_mode": {
    "name": "ipython",
    "version": 3
   },
   "file_extension": ".py",
   "mimetype": "text/x-python",
   "name": "python",
   "nbconvert_exporter": "python",
   "pygments_lexer": "ipython3",
   "version": "3.5.2"
  }
 },
 "nbformat": 4,
 "nbformat_minor": 1
}
